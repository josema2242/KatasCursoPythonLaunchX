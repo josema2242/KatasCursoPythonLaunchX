{
 "cells": [
  {
   "cell_type": "markdown",
   "metadata": {},
   "source": [
    "# Ejercicio 1"
   ]
  },
  {
   "cell_type": "code",
   "execution_count": 11,
   "metadata": {},
   "outputs": [
    {
     "name": "stdout",
     "output_type": "stream",
     "text": [
      "Se hacerca un asteroide a una velocidad enorme\n"
     ]
    }
   ],
   "source": [
    "velocidadasteroide1 = 49\n",
    "\n",
    "if velocidadasteroide1 >25 :\n",
    "    print(\"Se hacerca un asteroide a una velocidad enorme\")\n",
    "else:\n",
    "    print(\"No hay peligro, sigue con tu día\")"
   ]
  },
  {
   "cell_type": "markdown",
   "metadata": {},
   "source": [
    "# Ejercicio 2"
   ]
  },
  {
   "cell_type": "code",
   "execution_count": 12,
   "metadata": {},
   "outputs": [
    {
     "name": "stdout",
     "output_type": "stream",
     "text": [
      "¡No hay nada que ver aca!\n"
     ]
    }
   ],
   "source": [
    "asteroide2 = 19\n",
    "if asteroide2 >= 20:\n",
    "    print('¡Hay una luz mágica en el cielo!')\n",
    "elif asteroide2 == 20:\n",
    "    print('¡Hay una luz mágica en el cielo!')\n",
    "else:\n",
    "    print('¡No hay nada que ver aca!')"
   ]
  },
  {
   "cell_type": "markdown",
   "metadata": {},
   "source": [
    "# Ejercicio 3"
   ]
  },
  {
   "cell_type": "code",
   "execution_count": 15,
   "metadata": {},
   "outputs": [
    {
     "name": "stdout",
     "output_type": "stream",
     "text": [
      "¡Peligro!, Un asteroide muy peligroso viene hacia la Tierra!\n"
     ]
    }
   ],
   "source": [
    "velocidad_asteroide = 26\n",
    "tamano_asteroide = 40\n",
    "if velocidad_asteroide > 25 and tamano_asteroide > 25:\n",
    "    print(\"¡Peligro!, Un asteroide muy peligroso viene hacia la Tierra!\")\n",
    "elif velocidad_asteroide >= 20:\n",
    "    print(\" ¡Hay una luz mágica en el cielo!\")\n",
    "elif tamano_asteroide < 25:\n",
    "    print(\"Nada que ver aquí :)\")\n",
    "else:\n",
    "    print(\"Nada que ver aquí :)\")"
   ]
  }
 ],
 "metadata": {
  "interpreter": {
   "hash": "9b1a5cc4d05e5945551617b48bea658d865c7d7ae0b94a806ed9ecef52facad6"
  },
  "kernelspec": {
   "display_name": "Python 3.9.10 64-bit (windows store)",
   "language": "python",
   "name": "python3"
  },
  "language_info": {
   "codemirror_mode": {
    "name": "ipython",
    "version": 3
   },
   "file_extension": ".py",
   "mimetype": "text/x-python",
   "name": "python",
   "nbconvert_exporter": "python",
   "pygments_lexer": "ipython3",
   "version": "3.9.10"
  },
  "orig_nbformat": 4
 },
 "nbformat": 4,
 "nbformat_minor": 2
}
